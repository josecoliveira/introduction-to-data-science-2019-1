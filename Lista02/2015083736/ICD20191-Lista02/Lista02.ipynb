{
 "cells": [
  {
   "cell_type": "markdown",
   "metadata": {
    "deletable": false,
    "editable": false,
    "nbgrader": {
     "checksum": "eaf0c7f6324b9d7a98af39784e325a59",
     "grade": false,
     "grade_id": "cellc-a00",
     "locked": true,
     "schema_version": 1,
     "solution": false
    }
   },
   "source": [
    "# Lista 02 - Probabilidade + Estatística"
   ]
  },
  {
   "cell_type": "code",
   "execution_count": 1,
   "metadata": {
    "deletable": false,
    "editable": false,
    "nbgrader": {
     "checksum": "33ab7cb5c99e9e9ec290a223f69051e9",
     "grade": false,
     "grade_id": "cell-d52aeab7f55b79f3",
     "locked": true,
     "schema_version": 1,
     "solution": false
    }
   },
   "outputs": [],
   "source": [
    "import matplotlib.pyplot as plt\n",
    "import numpy as np\n",
    "import pandas as pd\n",
    "\n",
    "from numpy.testing import *\n",
    "from scipy import stats as ss\n",
    "\n",
    "plt.style.use('seaborn-colorblind')\n",
    "plt.ion()"
   ]
  },
  {
   "cell_type": "markdown",
   "metadata": {
    "deletable": false,
    "editable": false,
    "nbgrader": {
     "checksum": "fa204a34b383dedd4e2cca5c2ab531fc",
     "grade": false,
     "grade_id": "cell-b6fd0cae1e2c20ba",
     "locked": true,
     "schema_version": 1,
     "solution": false
    }
   },
   "source": [
    "# Exercício 01:\n",
    "\n",
    "\n",
    "Suponha que a altura de mulheres adultas de algumas regiões seguem uma distribuição normal com $\\mu = 162$ centímetros e $\\sigma = 8$. Nesse caso, responda às perguntas abaixo:"
   ]
  },
  {
   "cell_type": "markdown",
   "metadata": {
    "deletable": false,
    "editable": false,
    "nbgrader": {
     "checksum": "41d492c263910d26f137958cfb6ddbd9",
     "grade": false,
     "grade_id": "cell-23841d1381e158d6",
     "locked": true,
     "schema_version": 1,
     "solution": false
    }
   },
   "source": [
    "ID:\n",
    "\n",
    "(a) Dado que uma mulher mede 180\n",
    "\n",
    "centímetros, qual a probabilidade de alguém escolhido ao acaso ser maior que ela? Para responder à questão, crie uma função a(), sem parâmetros, que retorna a resposta da questão com uma precisão de 4 casas decimais.\n",
    "\n",
    "__Dica__:\n",
    "1. a função round(var, n) retorna o valor da variável var com uma precisão de n casas decimais.\n",
    "1. a classe `from scipy.stats.distributions import norm` implementa uma normal e já tem um método cdf e um método ppf (inverso da cdf)."
   ]
  },
  {
   "cell_type": "code",
   "execution_count": 2,
   "metadata": {
    "deletable": false,
    "nbgrader": {
     "checksum": "f4e11de49d009fd4232b792a2892666f",
     "grade": false,
     "grade_id": "cell-98e7ddcad81d69f5",
     "locked": false,
     "schema_version": 1,
     "solution": true
    }
   },
   "outputs": [
    {
     "data": {
      "text/plain": [
       "0.0122"
      ]
     },
     "execution_count": 2,
     "metadata": {},
     "output_type": "execute_result"
    }
   ],
   "source": [
    "# Crie aqui a função a() - com esse nome e sem parâmetros - \n",
    "# para retornar a resposta com precisão de 4 casas decimais!\n",
    "\n",
    "from scipy.stats.distributions import norm\n",
    "\n",
    "def a():\n",
    "    return round(1 - norm.cdf(180, loc=162, scale=8), 4)\n",
    "\n",
    "a()"
   ]
  },
  {
   "cell_type": "code",
   "execution_count": null,
   "metadata": {
    "deletable": false,
    "editable": false,
    "nbgrader": {
     "checksum": "f7c54776988c6db3e25e93d834b08c58",
     "grade": true,
     "grade_id": "cell-fbf34fa20fb08d7f",
     "locked": true,
     "points": 1,
     "schema_version": 1,
     "solution": false
    }
   },
   "outputs": [],
   "source": []
  },
  {
   "cell_type": "markdown",
   "metadata": {
    "deletable": false,
    "editable": false,
    "nbgrader": {
     "checksum": "a7e9b868299fd5928c925fc1724cfab8",
     "grade": false,
     "grade_id": "cell-15510104bc591c06",
     "locked": true,
     "schema_version": 1,
     "solution": false
    }
   },
   "source": [
    "(b) Uma treinadora dessa região quer montar uma equipe de basquete. Para isso, ela quer delimitar uma altura mínima $h$ que as jogadoras devem ter. Ele quer que $h$ seja maior que pelo menos $90\\%$ das alturas de mulheres daquela região. Qual o valor de $h$? Para responder à questão, crie uma função _b()_, sem parâmetros, que retorna a resposta da questão com uma precisão de 4 casas decimais.  \n",
    "\n",
    "__Dica:__  \n",
    "a função _round(var, n)_ ou _np.round(var, n)_ retorna o valor da variável var com uma precisão de n casas decimais."
   ]
  },
  {
   "cell_type": "code",
   "execution_count": 3,
   "metadata": {
    "deletable": false,
    "nbgrader": {
     "checksum": "ae35ce6357b273cd6fee822e7a4e632a",
     "grade": false,
     "grade_id": "cell-c3b2cf2cca494217",
     "locked": false,
     "schema_version": 1,
     "solution": true
    }
   },
   "outputs": [
    {
     "data": {
      "text/plain": [
       "172.2524"
      ]
     },
     "execution_count": 3,
     "metadata": {},
     "output_type": "execute_result"
    }
   ],
   "source": [
    "#Crie aqui a função b() - com esse nome e sem parâmetros - \n",
    "# para retornar a resposta com precisão de 4 casas decimais!\n",
    "\n",
    "def b():\n",
    "    return round(norm.ppf(0.9, loc=162, scale=8), 4)\n",
    "\n",
    "b()"
   ]
  },
  {
   "cell_type": "code",
   "execution_count": null,
   "metadata": {
    "deletable": false,
    "editable": false,
    "nbgrader": {
     "checksum": "87e198e2b2d7353c619a7b119e507f82",
     "grade": true,
     "grade_id": "cell-f20b2d7bee29c16d",
     "locked": true,
     "points": 1,
     "schema_version": 1,
     "solution": false
    }
   },
   "outputs": [],
   "source": []
  },
  {
   "cell_type": "markdown",
   "metadata": {
    "deletable": false,
    "editable": false,
    "nbgrader": {
     "checksum": "3fa91db5eac83e6a97f7736590e27377",
     "grade": false,
     "grade_id": "cell-59a6d09a8ca24318",
     "locked": true,
     "schema_version": 1,
     "solution": false
    }
   },
   "source": [
    "# Exercício 02:\n",
    "\n",
    "\n",
    "As seguintes amostras foram geradas seguindo uma distribuição normal N($\\mu$, $\\sigma$), onde $\\mu$, $\\sigma$ não necessariamente são os mesmos para ambas. Nos histogramas gerados é possível visualizar essa distribuição."
   ]
  },
  {
   "cell_type": "code",
   "execution_count": 4,
   "metadata": {
    "deletable": false,
    "editable": false,
    "nbgrader": {
     "checksum": "38461183fae6f90a4f3b1d3f97ff9272",
     "grade": false,
     "grade_id": "cell-a553f82f599eb6f9",
     "locked": true,
     "schema_version": 1,
     "solution": false
    }
   },
   "outputs": [
    {
     "data": {
      "image/png": "[encoded data removed]",
      "text/plain": [
       "<Figure size 432x288 with 1 Axes>"
      ]
     },
     "metadata": {
      "needs_background": "light"
     },
     "output_type": "display_data"
    },
    {
     "data": {
      "image/png": "[encoded data removed]",
      "text/plain": [
       "<Figure size 432x288 with 1 Axes>"
      ]
     },
     "metadata": {
      "needs_background": "light"
     },
     "output_type": "display_data"
    }
   ],
   "source": [
    "dados1 = [3.8739066,4.4360658,3.0235970,6.1573843,3.7793704,3.6493491,7.2910457,3.7489513,5.9306145,5.3897872,\n",
    "          5.9091607,5.2491517,7.1163771,4.1930465,-0.1994626,3.2583011,5.9229948,1.8548338,4.8335581,5.2329008,\n",
    "          1.5683191,5.8756518,3.4215138,4.7900996,5.9530234,4.4550699,3.3868535,5.3060581,4.2124300,7.0123823,\n",
    "          4.9790184,2.2368825,3.9182012,5.4449732,5.7594690,5.4159924,3.5914275,3.4382886,4.0706780,6.9489863,\n",
    "          6.3269462,2.8740986,7.4210664,4.6413206,4.2209699,4.2009752,6.2509627,4.9137823,4.9171593,6.3367493]\n",
    "\n",
    "dados2 = [2.291049832,5.092164483,3.287501109,4.152289011,4.534256822,5.513028947,2.696660244,3.270482741,\n",
    "          5.435338467,6.244110011,1.363583509,5.385855994,6.069527998,2.148361858,6.471584096,4.953202949,\n",
    "          6.827787432,4.695468536,2.047598339,8.858080081,5.436394723,7.849470791,4.053545595,3.204185038,\n",
    "          2.400954454,-0.002092845,3.571868529,6.202897955,5.224842718,4.958476608,6.708545254 -0.115002497,\n",
    "          5.106492712,3.343396551,5.984204841,3.552744920,4.041155327,5.709103288,3.137316917,2.100906915,\n",
    "          4.379147487,0.536031040,4.777440348,5.610527663,3.802506385,3.484180306,7.316861806,2.965851553,\n",
    "          3.640560731,4.765175164,7.047545215,5.683723446,5.048988000,6.891720033,3.619091771,8.396155189,\n",
    "          5.317492252,2.376071049,4.383045321,7.386186468,6.554626718,5.020433071,3.577328839,5.534419417,\n",
    "          3.600534876,2.172314745,4.632719037,4.361328042,4.292156420,1.102889101,4.621840612,4.946746104,\n",
    "          6.182937650,5.415993589,4.346608293,2.896446739,3.516568382,6.972384719,3.233811405,4.048606672,\n",
    "          1.663547342,4.607297335 -0.753490459,3.205353052,1.269307121,0.962428478,4.718627886,4.686076530,\n",
    "          2.919118501,6.204058666,4.803050149,4.670632749,2.811395731,7.214950058,3.275492976,2.336357937,\n",
    "          8.494097155,6.473022507,8.525715511,4.364707111]\n",
    "\n",
    "plt.hist(dados1)\n",
    "plt.show()\n",
    "plt.hist(dados2)\n",
    "plt.show()"
   ]
  },
  {
   "cell_type": "markdown",
   "metadata": {
    "deletable": false,
    "editable": false,
    "nbgrader": {
     "checksum": "e7a65c53751413a3706995f755ef8ea3",
     "grade": false,
     "grade_id": "cell-bd6ee8e5354ecfe2",
     "locked": true,
     "schema_version": 1,
     "solution": false
    }
   },
   "source": [
    "__a)__ A partir dos histogramas, tente aproximar uma normal a cada um deles, desenhando-a sobre o histograma. Para isso, você deve estimar valores de $\\mu$ e $\\sigma$. Não se esqueça de normalizar os dados, ou seja, o eixo y deve estar um uma escala de 0 a (no máximo) 1!"
   ]
  },
  {
   "cell_type": "code",
   "execution_count": 5,
   "metadata": {
    "deletable": false,
    "nbgrader": {
     "checksum": "a2a9350e259f177d671ace9f62bda20e",
     "grade": false,
     "grade_id": "cell-58abe466e157835a",
     "locked": false,
     "schema_version": 1,
     "solution": true
    }
   },
   "outputs": [],
   "source": [
    "# From Stack Overflow: https://stackoverflow.com/questions/20011122/fitting-a-normal-distribution-to-1d-data\n",
    "\n",
    "def hist_with_normal(data):\n",
    "    # Fit a normal distribution over the data\n",
    "    mu, std = norm.fit(data)\n",
    "    \n",
    "    # Plot the histogram\n",
    "    plt.hist(data, density=True)\n",
    "    \n",
    "    # Plot the PDF\n",
    "    xmin, xmax = plt.xlim()\n",
    "    x = np.linspace(xmin, xmax, 100)\n",
    "    p = norm.pdf(x, mu, std)\n",
    "    plt.plot(x, p, 'k', linewidth=2)"
   ]
  },
  {
   "cell_type": "code",
   "execution_count": 6,
   "metadata": {},
   "outputs": [
    {
     "data": {
      "image/png": "[encoded data removed]",
      "text/plain": [
       "<Figure size 432x288 with 1 Axes>"
      ]
     },
     "metadata": {
      "needs_background": "light"
     },
     "output_type": "display_data"
    }
   ],
   "source": [
    "hist_with_normal(dados1)"
   ]
  },
  {
   "cell_type": "code",
   "execution_count": 7,
   "metadata": {},
   "outputs": [
    {
     "data": {
      "image/png": "[encoded data removed]",
      "text/plain": [
       "<Figure size 432x288 with 1 Axes>"
      ]
     },
     "metadata": {
      "needs_background": "light"
     },
     "output_type": "display_data"
    }
   ],
   "source": [
    "hist_with_normal(dados2)"
   ]
  },
  {
   "cell_type": "markdown",
   "metadata": {
    "deletable": false,
    "editable": false,
    "nbgrader": {
     "checksum": "df5b257253382e8cd5b058ab39d18b0a",
     "grade": false,
     "grade_id": "cell-7e634a02cc0a6274",
     "locked": true,
     "schema_version": 1,
     "solution": false
    }
   },
   "source": [
    "# Exercício 03:\n",
    "\n",
    "\n",
    "Dado uma tabela com informações sobre uma amostra com 20 alunos contendo a nota desses alunos em algumas disciplinas e os níveis de dificuldade das mesmas, crie uma função que retorne a probabilidade condicional estimada à partir dos dados para dois eventos dados, informando ainda se os eventos são independentes ou não. Ou seja, dado a tabela mostrada no exemplo (lista de listas) e dois eventos A e B, retorne a probabilidade condicional de A dado B (P(A|B)) com uma precisão de 4 casas decimais. O retorno da função, entretanto, deve ser uma frase (string) escrita da seguinte forma: _str: val_ onde _str_ é a string \"Independentes\" se os eventos A e B são independentes e \"Dependentes\" caso contrário e _val_ é o valor da probabilidade condicional P(A|B) com uma precisão de 4 casas decimais.\n",
    "\n",
    "\n",
    "__Dica:__  \n",
    "a função format(var, '.nf') retorna uma string com o valor da variável var com uma precisão de exatamente n casas decimais."
   ]
  },
  {
   "cell_type": "code",
   "execution_count": 8,
   "metadata": {
    "deletable": false,
    "nbgrader": {
     "checksum": "1e92c0f1112a4ed053526398137a0788",
     "grade": false,
     "grade_id": "cell-90ca1307d00c3011",
     "locked": false,
     "schema_version": 1,
     "solution": true
    }
   },
   "outputs": [
    {
     "name": "stdout",
     "output_type": "stream",
     "text": [
      "   dificuldade nota\n",
      "id                 \n",
      "1        Facil    C\n",
      "2        Facil    A\n",
      "3      Dificil    E\n",
      "4      Dificil    B\n",
      "5      Dificil    B\n",
      "6      Dificil    A\n",
      "7        Facil    D\n",
      "8      Dificil    C\n",
      "9        Facil    D\n",
      "10       Facil    C\n",
      "11       Facil    A\n",
      "12       Facil    A\n",
      "13     Dificil    B\n",
      "14     Dificil    C\n",
      "15     Dificil    E\n",
      "16     Dificil    C\n",
      "17       Facil    A\n",
      "18     Dificil    D\n",
      "19       Facil    B\n",
      "20       Facil    A\n"
     ]
    }
   ],
   "source": [
    "# Esses dados se referem às notas (A-E) de 20 alunos de acordo com a dificuldade da disciplina (Fácil ou Difícil) \n",
    "# Coluna 1: id do aluno\n",
    "# Coluna 2: dificuldade da disciplina ('Facil' ou 'Dificil')\n",
    "# Coluna 3: nota do aluno (A-E)\n",
    "data = [[1, 'Facil', 'C'],\n",
    "        [2, 'Facil', 'A'],\n",
    "        [3, 'Dificil', 'E'],\n",
    "        [4, 'Dificil', 'B'],\n",
    "        [5, 'Dificil', 'B'],\n",
    "        [6, 'Dificil', 'A'],\n",
    "        [7, 'Facil', 'D'],\n",
    "        [8, 'Dificil', 'C'],\n",
    "        [9, 'Facil', 'D'],\n",
    "        [10, 'Facil', 'C'],\n",
    "        [11, 'Facil', 'A'],\n",
    "        [12, 'Facil', 'A'],\n",
    "        [13, 'Dificil', 'B'],\n",
    "        [14, 'Dificil', 'C'],\n",
    "        [15, 'Dificil', 'E'],\n",
    "        [16, 'Dificil', 'C'],\n",
    "        [17, 'Facil', 'A'],\n",
    "        [18, 'Dificil', 'D'],\n",
    "        [19, 'Facil', 'B'],\n",
    "        [20, 'Facil', 'A']]\n",
    "data = pd.DataFrame(data, columns=['id', 'dificuldade', 'nota'])\n",
    "data = data.set_index('id')\n",
    "print(data)\n",
    "\n",
    "def true_ratio(series):\n",
    "    return series.sum() / series.size\n",
    "\n",
    "def prob_cond(df,\n",
    "              valor_nota: 'considere como A no bayes',\n",
    "              valor_dificuldade: 'considere como B no bayes'):\n",
    "    A = true_ratio(data['nota'] == valor_nota)\n",
    "    B = true_ratio(data['dificuldade'] == valor_dificuldade)\n",
    "    if A == B:\n",
    "        return 'Independentes: ' + format(A, '.4f')\n",
    "    else:\n",
    "        A_and_B = true_ratio((data['nota'] == valor_nota) & (data['dificuldade'] == valor_dificuldade))\n",
    "        return 'Dependentes: ' + format(A_and_B / B, '.4f')\n"
   ]
  },
  {
   "cell_type": "code",
   "execution_count": 9,
   "metadata": {
    "deletable": false,
    "editable": false,
    "nbgrader": {
     "checksum": "437b11af3dfa1362e73fa07bb0539f0e",
     "grade": true,
     "grade_id": "cell-7fda9ffd35d685a6",
     "locked": true,
     "points": 1,
     "schema_version": 1,
     "solution": false
    }
   },
   "outputs": [],
   "source": [
    "\"\"\"Check that prob_cond returns the correct output for several inputs\"\"\"\n",
    "\n",
    "assert_equal(prob_cond(data, 'A', 'Facil'), 'Dependentes: 0.5000')\n",
    "assert_equal(prob_cond(data, 'E', 'Facil'), 'Dependentes: 0.0000')\n",
    "assert_equal(prob_cond(data, 'A', 'Dificil'), 'Dependentes: 0.1000')\n",
    "assert_equal(prob_cond(data, 'E', 'Dificil'), 'Dependentes: 0.2000')"
   ]
  },
  {
   "cell_type": "code",
   "execution_count": null,
   "metadata": {
    "deletable": false,
    "editable": false,
    "nbgrader": {
     "checksum": "1117e2f85c9b33dff873707840491059",
     "grade": true,
     "grade_id": "cell-f0c1dad559960dad",
     "locked": true,
     "points": 1,
     "schema_version": 1,
     "solution": false
    }
   },
   "outputs": [],
   "source": []
  },
  {
   "cell_type": "markdown",
   "metadata": {
    "deletable": false,
    "editable": false,
    "nbgrader": {
     "checksum": "a9e9eac9af8310642b64964c6e3315d4",
     "grade": false,
     "grade_id": "cell1c-a00",
     "locked": true,
     "schema_version": 1,
     "solution": false
    }
   },
   "source": [
    "# Exercício 04:\n",
    "\n",
    "\n",
    "Utilizando os dados de acidentes fatais em companhias aéreas dos Estados Unidos de 1985 a 1999, calcule algumas estatísticas básicas. Você deve retornar uma __lista__ com os valores das estatísticas calculadas, sendo elas, nessa ordem: menor valor, maior valor, média, mediana, variância e desvio-padrão. Para responder à questão, crie uma função _estat(acidentes)_ que retorna a lista com os valores correspondentes às resposta da questão, inteiros quando forem inteiros ou com uma precisão de 4 casas decimais caso contrário.\n",
    "\n",
    "__Teste:__\n",
    "`assert_equal(estat(acidentes), ans)`, sendo que `ans` é uma lista contendo os valores corretos para as estatísticas que este exercício pede.\n",
    "\n",
    "__Dicas:__  \n",
    "1) A função round(var, n) retorna o valor da variável var com uma precisão de n casas decimais.\n",
    "\n",
    "2) Execute o teste `assert_equal(estat(lista_boba), ans_bobo)` para alguma `lista_boba` que você saiba calcular as estatísticas no papel.\n",
    "\n",
    "\n",
    "__Fonte:__ https://aviation-safety.net/"
   ]
  },
  {
   "cell_type": "code",
   "execution_count": 10,
   "metadata": {
    "deletable": false,
    "nbgrader": {
     "checksum": "880db9dff7038586993103b01f6edda6",
     "grade": false,
     "grade_id": "cell1-a00",
     "locked": false,
     "schema_version": 1,
     "solution": true
    },
    "scrolled": true
   },
   "outputs": [
    {
     "data": {
      "text/plain": [
       "[0, 14, 2.1786, 1.0, 8.1857, 2.8611]"
      ]
     },
     "execution_count": 10,
     "metadata": {},
     "output_type": "execute_result"
    }
   ],
   "source": [
    "# Crie aqui a função estat(acidentes) - com esse nome e parâmetro - \n",
    "# a função deve retornar a lista com as respostas com precisão de 4 casas decimais!\n",
    "\n",
    "acidentes = [0,14,0,1,0,4,1,0,0,2,1,5,0,3,0,0,6,1,1,12,3,1,5,0,3,0,0,1,1,0,1,5,2,1,1,3,4,0,3,0,2,2,1,0,1,1,1,3,0,4,3,8,7,3,0,1]\n",
    "\n",
    "def estat(acidentes):\n",
    "    data = pd.DataFrame(acidentes)\n",
    "    return [round(data.min()[0], 4),\n",
    "            round(data.max()[0], 4),\n",
    "            round(data.mean()[0], 4),\n",
    "            round(data.median()[0], 4),\n",
    "            round(data.var()[0], 4),\n",
    "            round(data.std()[0], 4)]\n",
    "\n",
    "estat(acidentes)"
   ]
  },
  {
   "cell_type": "code",
   "execution_count": null,
   "metadata": {
    "deletable": false,
    "editable": false,
    "nbgrader": {
     "checksum": "752c9d5b0e9fbba86ba76e2731cebd7b",
     "grade": true,
     "grade_id": "cell1t-a00",
     "locked": true,
     "points": 1,
     "schema_version": 1,
     "solution": false
    }
   },
   "outputs": [],
   "source": []
  },
  {
   "cell_type": "markdown",
   "metadata": {
    "deletable": false,
    "editable": false,
    "nbgrader": {
     "checksum": "3f30c30d62caa22538ab5156a3188c15",
     "grade": false,
     "grade_id": "cell2c-a00",
     "locked": true,
     "schema_version": 1,
     "solution": false
    }
   },
   "source": [
    "# Exercício 05:\n",
    "\n",
    "\n",
    "Procure encontrar correlações espúrias interessantes e apresente um exemplo encontrado. Ou seja, aprensente dois conjuntos de dados que possuem alta correlação (muito positivas ou muito negativas) sem que um seja de fato o causador do outro. Além disso, deixe resgistrado os gráficos com a distribuição dos dados e um gráfico de dispersão como forma de visualizar a correlação entre os dados. Calcule a covariância e correlação entre os dados e, por fim, se possível, tente explicar qual poderia ser a verdadeira causa da ocorrência das observações. Para isso, utilize a última célula desse notebook.\n",
    "\n",
    "\n",
    "__Observação:__  \n",
    "Para ideias de correlações espúrias, veja os seguintes sites:  \n",
    "http://tylervigen.com/spurious-correlations  \n",
    "https://en.wikipedia.org/wiki/Spurious_relationship#Other_relationships  \n"
   ]
  },
  {
   "cell_type": "code",
   "execution_count": 11,
   "metadata": {
    "deletable": false,
    "nbgrader": {
     "checksum": "4f74225398e8bdbfa829d72a445b0395",
     "grade": true,
     "grade_id": "cell21-a00",
     "locked": false,
     "points": 1,
     "schema_version": 1,
     "solution": true
    }
   },
   "outputs": [],
   "source": [
    "# http://tylervigen.com/view_correlation?id=80952\n",
    "\n",
    "indexes = [2004, 2005, 2006, 2007, 2008, 2009]\n",
    "\n",
    "# PhDs to women all fields by Year\n",
    "phds = [23201, 25816, 27607, 30551, 31115, 31225]\n",
    "phds_pd = pd.DataFrame(list(zip(indexes, phds)), index=indexes, columns=[\"years\", \"phds\"])\n",
    "\n",
    "# Engineering doctorates awarded (US) by Year\n",
    "awarded = [5777, 6427, 7185, 7745, 7859, 7634]\n",
    "awarded_pd = pd.DataFrame(list(zip(indexes, awarded)), index=indexes, columns=[\"years\", \"awarded\"])"
   ]
  },
  {
   "cell_type": "code",
   "execution_count": 12,
   "metadata": {},
   "outputs": [
    {
     "data": {
      "text/plain": [
       "<matplotlib.axes._subplots.AxesSubplot at 0x7faa7928f240>"
      ]
     },
     "execution_count": 12,
     "metadata": {},
     "output_type": "execute_result"
    },
    {
     "data": {
      "image/png": "[encoded data removed]",
      "text/plain": [
       "<Figure size 432x288 with 1 Axes>"
      ]
     },
     "metadata": {
      "needs_background": "light"
     },
     "output_type": "display_data"
    }
   ],
   "source": [
    "phds_pd[\"phds\"].plot()"
   ]
  },
  {
   "cell_type": "code",
   "execution_count": 13,
   "metadata": {},
   "outputs": [
    {
     "data": {
      "text/plain": [
       "<matplotlib.axes._subplots.AxesSubplot at 0x7faa79122f28>"
      ]
     },
     "execution_count": 13,
     "metadata": {},
     "output_type": "execute_result"
    },
    {
     "data": {
      "image/png": "[encoded data removed]",
      "text/plain": [
       "<Figure size 432x288 with 1 Axes>"
      ]
     },
     "metadata": {
      "needs_background": "light"
     },
     "output_type": "display_data"
    }
   ],
   "source": [
    "awarded_pd[\"awarded\"].plot()"
   ]
  },
  {
   "cell_type": "code",
   "execution_count": 14,
   "metadata": {},
   "outputs": [
    {
     "data": {
      "image/png": "[encoded data removed]",
      "text/plain": [
       "<Figure size 432x288 with 2 Axes>"
      ]
     },
     "metadata": {
      "needs_background": "light"
     },
     "output_type": "display_data"
    }
   ],
   "source": [
    "# From https://matplotlib.org/gallery/api/two_scales.html\n",
    "\n",
    "fig, ax1 = plt.subplots()\n",
    "ax1.set_xlabel('Years')\n",
    "ax1.set_ylabel('PhDs to women all fields', color=\"red\")\n",
    "ax1.scatter(x=indexes, y=phds, color=\"red\")\n",
    "ax1.tick_params(axis='y', labelcolor=\"red\")\n",
    "\n",
    "ax2 = ax1.twinx()\n",
    "ax2.set_ylabel(\"Engineering doctorates awarded (US)\", color=\"blue\")\n",
    "ax2.scatter(x=indexes, y=awarded, color=\"blue\")\n",
    "ax2.tick_params(axis='y', labelcolor=\"blue\")\n",
    "\n",
    "fig.tight_layout()"
   ]
  },
  {
   "cell_type": "markdown",
   "metadata": {},
   "source": [
    "Correlação:"
   ]
  },
  {
   "cell_type": "code",
   "execution_count": 15,
   "metadata": {},
   "outputs": [
    {
     "data": {
      "text/plain": [
       "0.98281810472181"
      ]
     },
     "execution_count": 15,
     "metadata": {},
     "output_type": "execute_result"
    }
   ],
   "source": [
    "phds_pd[\"phds\"].corr(awarded_pd[\"awarded\"])"
   ]
  },
  {
   "cell_type": "markdown",
   "metadata": {},
   "source": [
    "Covariância:"
   ]
  },
  {
   "cell_type": "code",
   "execution_count": 16,
   "metadata": {},
   "outputs": [
    {
     "data": {
      "text/plain": [
       "2702103.3000000003"
      ]
     },
     "execution_count": 16,
     "metadata": {},
     "output_type": "execute_result"
    }
   ],
   "source": [
    "phds_pd[\"phds\"].cov(awarded_pd[\"awarded\"])"
   ]
  },
  {
   "cell_type": "code",
   "execution_count": null,
   "metadata": {},
   "outputs": [],
   "source": []
  }
 ],
 "metadata": {
  "hide_input": false,
  "kernelspec": {
   "display_name": "Python 3",
   "language": "python",
   "name": "python3"
  },
  "language_info": {
   "codemirror_mode": {
    "name": "ipython",
    "version": 3
   },
   "file_extension": ".py",
   "mimetype": "text/x-python",
   "name": "python",
   "nbconvert_exporter": "python",
   "pygments_lexer": "ipython3",
   "version": "3.7.1"
  }
 },
 "nbformat": 4,
 "nbformat_minor": 2
}
